{
 "cells": [
  {
   "cell_type": "code",
   "execution_count": 1,
   "id": "0bf6beab",
   "metadata": {},
   "outputs": [
    {
     "name": "stdout",
     "output_type": "stream",
     "text": [
      "Test\n"
     ]
    }
   ],
   "source": [
    "import torch\n",
    "from torch import nn, optim\n",
    "from torch.utils.data import Dataset, DataLoader\n",
    "\n",
    "import syft as sy\n",
    "import numpy as np\n",
    "from pathlib import Path\n",
    "import pandas as pd\n",
    "from tqdm.notebook import tqdm\n",
    "np.random.seed(666)\n",
    "\n",
    "hook = sy.TorchHook(torch)\n",
    "from Distributed_HM_Data import Distributed_HM, binary_acc\n",
    "\n",
    "dataDir = Path.cwd().parent/'Data/'\n",
    "print(\"Test\")"
   ]
  },
  {
   "cell_type": "code",
   "execution_count": 2,
   "id": "98b46c3c",
   "metadata": {},
   "outputs": [],
   "source": [
    "class HMSaleTrainDataLoader(Dataset):\n",
    "    \"\"\"HMSaleTrainDataLoader Training set of HM sales data\n",
    "\n",
    "    Args:\n",
    "        transactions (pd.DataFrame): Dataframe of transaction records\n",
    "        all_products_id (list): A list contains all product ids\n",
    "    \"\"\"\n",
    "    def __init__(self, transactions, all_products_id):\n",
    "        self.customers, self.products, self.prices, self.sales_channels, \\\n",
    "        self.club_status, self.age_groups, self.product_groups, self.color_groups, \\\n",
    "        self.index_name, self.labels = self.get_dataset(transactions, all_products_id)\n",
    "\n",
    "    def __len__(self):\n",
    "        return len(self.customers)\n",
    "    \n",
    "    def __getitem__(self, idx):\n",
    "        return self.customers[idx], self.products[idx], self.prices[idx], self.sales_channels[idx], self.club_status[idx], \\\n",
    "               self.age_groups[idx], self.product_groups[idx], self.color_groups[idx], self.index_name[idx], self.labels[idx]\n",
    "    \n",
    "    def get_dataset(self, transactions, all_products_id):\n",
    "        customers, products, prices, sales_channels, club_status, age_groups, product_groups, color_groups, index_name, labels  = [], [], [], [], [], [], [], [], [], []\n",
    "        customer_product_set = set(zip(transactions[\"customer_id\"], transactions[\"article_id\"], \n",
    "                                       transactions[\"price\"], transactions[\"sales_channel_id\"], \n",
    "                                       transactions[\"club_member_status\"], transactions[\"age\"], \n",
    "                                       transactions[\"product_group_name\"], transactions[\"colour_group_name\"], transactions[\"index_name\"]))\n",
    "        \n",
    "        \"\"\"negative sampling\"\"\"\n",
    "        # set up negative:positive ratio as 4:1\n",
    "        negative_samples = 4\n",
    "\n",
    "        for u, i, price, sale, club, age, product, color, index in tqdm(customer_product_set):\n",
    "            customers.append(u)\n",
    "            products.append(i)\n",
    "            prices.append(price)\n",
    "            sales_channels.append(sale)\n",
    "            club_status.append(club)\n",
    "            age_groups.append(age)\n",
    "            product_groups.append(product)\n",
    "            color_groups.append(color)\n",
    "            index_name.append(index)\n",
    "            labels.append(1)\n",
    "            for _ in range(negative_samples):\n",
    "                negative_product = np.random.choice(all_products_id)\n",
    "                while (u, negative_product, price, sale, club, age, product, color, index) in customer_product_set:\n",
    "                    negative_product = np.random.choice(all_products_id)\n",
    "                customers.append(u)\n",
    "                products.append(negative_product)\n",
    "                prices.append(price)\n",
    "                sales_channels.append(sale)\n",
    "                club_status.append(club)\n",
    "                age_groups.append(age)\n",
    "                product_groups.append(product)\n",
    "                color_groups.append(color)\n",
    "                index_name.append(index)\n",
    "                labels.append(0)\n",
    "        return torch.tensor(customers), torch.tensor(products), torch.tensor(prices), torch.tensor(sales_channels), \\\n",
    "               torch.tensor(club_status), torch.tensor(age_groups), torch.tensor(product_groups), torch.tensor(color_groups), \\\n",
    "               torch.tensor(index_name), torch.tensor(labels)\n"
   ]
  },
  {
   "cell_type": "code",
   "execution_count": 3,
   "id": "1bfed2f4",
   "metadata": {},
   "outputs": [
    {
     "data": {
      "application/vnd.jupyter.widget-view+json": {
       "model_id": "2b414e17764746898abc6199c49de163",
       "version_major": 2,
       "version_minor": 0
      },
      "text/plain": [
       "  0%|          | 0/1403 [00:00<?, ?it/s]"
      ]
     },
     "metadata": {},
     "output_type": "display_data"
    }
   ],
   "source": [
    "hm_data = pd.read_csv(dataDir/'small_train.csv')\n",
    "all_products_id = hm_data[\"article_id\"].unique()\n",
    "train_data = HMSaleTrainDataLoader(hm_data, all_products_id)\n",
    "train_loader = DataLoader(train_data, batch_size=64, shuffle=True)"
   ]
  },
  {
   "cell_type": "code",
   "execution_count": 4,
   "id": "2534ade6",
   "metadata": {},
   "outputs": [],
   "source": [
    "# set up virtual worker\n",
    "sales_domain = sy.VirtualWorker(hook, id=\"sales_domain\")\n",
    "customer_domain = sy.VirtualWorker(hook, id=\"customer_domain\")\n",
    "product_domain = sy.VirtualWorker(hook, id=\"product_domain\")\n",
    "server = sy.VirtualWorker(hook, id=\"server\")\n",
    "\n",
    "data_owners = (sales_domain, customer_domain, product_domain)\n",
    "model_locations = [sales_domain, customer_domain, product_domain, server]\n",
    "\n",
    "distributed_trainloader = Distributed_HM(data_owners=data_owners, data_loader=train_loader)"
   ]
  },
  {
   "cell_type": "code",
   "execution_count": null,
   "id": "0ff0ec88",
   "metadata": {},
   "outputs": [],
   "source": [
    "class SplitNN(torch.nn.modules):\n",
    "    def __init__(self, models, optimizers, data_owner, server):\n",
    "        self.data_owner = "
   ]
  },
  {
   "cell_type": "code",
   "execution_count": 11,
   "id": "743c90c9",
   "metadata": {},
   "outputs": [
    {
     "ename": "SyntaxError",
     "evalue": "invalid syntax (2874729936.py, line 4)",
     "output_type": "error",
     "traceback": [
      "\u001b[0;36m  File \u001b[0;32m\"/tmp/ipykernel_253926/2874729936.py\"\u001b[0;36m, line \u001b[0;32m4\u001b[0m\n\u001b[0;31m    nn.Embedding(num_embeddings=num_items, embedding_dim=item_embedding_dim)\u001b[0m\n\u001b[0m     ^\u001b[0m\n\u001b[0;31mSyntaxError\u001b[0m\u001b[0;31m:\u001b[0m invalid syntax\n"
     ]
    }
   ],
   "source": [
    "# set up parameters for model\n",
    "num_users = len(train_transactions.customer_id.unique())\n",
    "print(\"num_users:\", num_users)\n",
    "num_items = len(all_products_id)\n",
    "print(\"num_items:\", num_items)\n",
    "num_product_groups = len(train_transactions.product_group_name.unique())\n",
    "print(\"num_product_groups:\", num_product_groups)\n",
    "num_color_groups = len(train_transactions.colour_group_name.unique())\n",
    "print(\"num_color_groups:\", num_color_groups)\n",
    "num_index_name = len(train_transactions.index_name.unique())\n",
    "\n",
    "embedding_size = [16, 32, 10, 8, 6]\n",
    "input_size = [50, 2, 24]\n",
    "hidden_size = [64, 128, 256]\n",
    "\n",
    "models = {\n",
    "    \"sales_domain\": nn.ModuleList([\n",
    "                    nn.Embedding(num_embeddings=num_users, embedding_dim=embedding_size[0]),\n",
    "                    nn.Embedding(num_embeddings=num_items, embedding_dim=embedding_size[1]),\n",
    "                    nn.Sequential(\n",
    "                        nn.Linear(in_features=input_size[0], out_features=hidden_size[], bias=True),\n",
    "                        nn.LeakyReLU(),\n",
    "                        nn.Linear(),\n",
    "                        nn.LeakyReLU()\n",
    "                    )\n",
    "    ]),\n",
    "    \"customer_domain\": nn.Sequential(\n",
    "                       nn.Linear(in_features=input_size[1], out_features=hidden_size[], bias=True),\n",
    "                       nn.LeakyReLU(),\n",
    "                       nn.Linear(),\n",
    "                       nn.LeakyReLU()\n",
    "    \n",
    "    ),\n",
    "    \"product_domain\": nn.ModuleList([\n",
    "                      nn.Embedding(num_embeddings=num_product_groups, embedding_dim=embedding_size[2]),\n",
    "                      nn.Embedding(num_embeddings=num_color_groups, embedding_dim=embedding_size[3])\n",
    "                      nn.Embedding(num_embeddings=num_index_name, embedding_dim=embedding_size[4])\n",
    "                      nn.Sequential(\n",
    "                          nn.Linear(in_features=input_size[2], out_features=hidden_size[], bias=True),\n",
    "                          nn.LeakyReLU(),\n",
    "                          nn.Linear(),\n",
    "                          nn.LeakyReLU()\n",
    "                      )\n",
    "    ]),\n",
    "    \"server\": nn.Sequential(\n",
    "              nn.Linear(),\n",
    "              nn.LeakyReLU(),\n",
    "              nn.Linear(),\n",
    "              nn.LeakyReLU(),\n",
    "              nn.Linear(),\n",
    "              nn.LeakyReLU(),\n",
    "              nn.Linear(),\n",
    "              nn.LeakyReLU(),\n",
    "              nn.Linear(),\n",
    "    )\n",
    "}"
   ]
  },
  {
   "cell_type": "code",
   "execution_count": null,
   "id": "dca90398",
   "metadata": {},
   "outputs": [],
   "source": []
  }
 ],
 "metadata": {
  "kernelspec": {
   "display_name": "Python 3 (ipykernel)",
   "language": "python",
   "name": "python3"
  },
  "language_info": {
   "codemirror_mode": {
    "name": "ipython",
    "version": 3
   },
   "file_extension": ".py",
   "mimetype": "text/x-python",
   "name": "python",
   "nbconvert_exporter": "python",
   "pygments_lexer": "ipython3",
   "version": "3.7.7"
  }
 },
 "nbformat": 4,
 "nbformat_minor": 5
}
