{
 "cells": [
  {
   "cell_type": "code",
   "execution_count": null,
   "metadata": {},
   "outputs": [],
   "source": [
    "import sys\n",
    "from pathlib import Path\n",
    "parent_dir = str(Path.cwd().parent)\n",
    "if parent_dir not in sys.path:\n",
    "    sys.path.append(parent_dir)\n",
    "\n",
    "import torch\n",
    "from torch import nn, optim\n",
    "from torch.utils.data import Dataset, DataLoader\n",
    "\n",
    "import syft as sy\n",
    "import numpy as np\n",
    "import pandas as pd\n",
    "from tqdm.notebook import tqdm\n",
    "np.random.seed(666)\n",
    "from Distributed_HM_Data import HMSaleTrainDataLoader, Distributed_HM, binary_acc\n",
    "from utils_models import SalesNN, CustomersNN, ProductsNN\n",
    "\n",
    "dataDir = Path.cwd().parent.parent/'CreditCard/'"
   ]
  },
  {
   "cell_type": "code",
   "execution_count": null,
   "metadata": {},
   "outputs": [],
   "source": [
    "import sys\n",
    "import logging\n",
    "\n",
    "# preserve training log\n",
    "so = open(\"config1.log\", 'w', 10)\n",
    "sys.stdout.echo = so\n",
    "sys.stderr.echo = so\n",
    "\n",
    "get_ipython().log.handlers[0].stream = so\n",
    "get_ipython().log.setLevel(logging.INFO)"
   ]
  },
  {
   "cell_type": "code",
   "execution_count": null,
   "metadata": {},
   "outputs": [],
   "source": [
    "class SalesNN(nn.Module):\n",
    "    \"\"\" Partial model for digital transaction domain\n",
    "    Args:\n",
    "        input_size (int): number of features in digital transaction domain\n",
    "        digital_transaction_intput (tensor): input size of digital transaction domain\n",
    "    \n",
    "    \"\"\"\n",
    "    def __init__(\n",
    "            self, \n",
    "            input_size: int,\n",
    "            hidden_size_1: int = 128,\n",
    "            output_size: int = 32,\n",
    "        ):\n",
    "        super().__init__()\n",
    "\n",
    "        self.relu = nn.LeakyReLU()\n",
    "        self.linear1 = nn.Linear(input_size, hidden_size_1)\n",
    "        \n",
    "    def forward(self, user_input, item_input, prices, sales_channels):\n",
    "\n",
    "        \n",
    "        latent_vec = torch.cat([user_embedding, item_embedding, prices, sales_channels], dim=-1)\n",
    "#         for layer in self.encoder:\n",
    "#             latent_vec = layer(latent_vec)\n",
    "#             latent_vec = self.relu(latent_vec)\n",
    "        \n",
    "        return latent_vec\n",
    "    \n",
    "    # save weights of partial model on remote worker\n",
    "    def get_weights(self):\n",
    "        return self.state_dict()"
   ]
  }
 ],
 "metadata": {
  "language_info": {
   "name": "python"
  },
  "orig_nbformat": 4
 },
 "nbformat": 4,
 "nbformat_minor": 2
}
