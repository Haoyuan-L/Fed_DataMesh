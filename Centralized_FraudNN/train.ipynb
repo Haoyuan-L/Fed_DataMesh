{
 "cells": [
  {
   "cell_type": "code",
   "execution_count": 34,
   "metadata": {},
   "outputs": [],
   "source": [
    "import pandas as pd\n",
    "import numpy as np\n",
    "from pathlib import Path\n",
    "from tqdm.notebook import tqdm\n",
    "from imblearn.over_sampling import SMOTE\n",
    "from imblearn.under_sampling import RandomUnderSampler\n",
    "from imblearn.pipeline import Pipeline\n",
    "from sklearn.preprocessing import StandardScaler, RobustScaler\n",
    "from sklearn.model_selection import train_test_split\n",
    "from sklearn.metrics import confusion_matrix, classification_report, roc_auc_score, roc_curve, auc, f1_score, precision_score, recall_score\n",
    "import seaborn as sns\n",
    "import matplotlib.pyplot as plt\n",
    "\n",
    "import torch\n",
    "from torch import nn\n",
    "from torch.utils.data import Dataset, DataLoader\n",
    "\n",
    "pd.options.mode.chained_assignment = None\n",
    "dataDir = Path.cwd().parent.parent.parent/'backup'\n",
    "np.random.seed(66)\n",
    "\n",
    "creditcard = pd.read_csv(dataDir/'CreditCard/creditcard.csv')"
   ]
  },
  {
   "cell_type": "code",
   "execution_count": 2,
   "metadata": {},
   "outputs": [
    {
     "data": {
      "text/html": [
       "<div>\n",
       "<style scoped>\n",
       "    .dataframe tbody tr th:only-of-type {\n",
       "        vertical-align: middle;\n",
       "    }\n",
       "\n",
       "    .dataframe tbody tr th {\n",
       "        vertical-align: top;\n",
       "    }\n",
       "\n",
       "    .dataframe thead th {\n",
       "        text-align: right;\n",
       "    }\n",
       "</style>\n",
       "<table border=\"1\" class=\"dataframe\">\n",
       "  <thead>\n",
       "    <tr style=\"text-align: right;\">\n",
       "      <th></th>\n",
       "      <th>Time</th>\n",
       "      <th>V1</th>\n",
       "      <th>V2</th>\n",
       "      <th>V3</th>\n",
       "      <th>V4</th>\n",
       "      <th>V5</th>\n",
       "      <th>V6</th>\n",
       "      <th>V7</th>\n",
       "      <th>V8</th>\n",
       "      <th>V9</th>\n",
       "      <th>...</th>\n",
       "      <th>V21</th>\n",
       "      <th>V22</th>\n",
       "      <th>V23</th>\n",
       "      <th>V24</th>\n",
       "      <th>V25</th>\n",
       "      <th>V26</th>\n",
       "      <th>V27</th>\n",
       "      <th>V28</th>\n",
       "      <th>Amount</th>\n",
       "      <th>Class</th>\n",
       "    </tr>\n",
       "  </thead>\n",
       "  <tbody>\n",
       "    <tr>\n",
       "      <th>0</th>\n",
       "      <td>0.0</td>\n",
       "      <td>-1.359807</td>\n",
       "      <td>-0.072781</td>\n",
       "      <td>2.536347</td>\n",
       "      <td>1.378155</td>\n",
       "      <td>-0.338321</td>\n",
       "      <td>0.462388</td>\n",
       "      <td>0.239599</td>\n",
       "      <td>0.098698</td>\n",
       "      <td>0.363787</td>\n",
       "      <td>...</td>\n",
       "      <td>-0.018307</td>\n",
       "      <td>0.277838</td>\n",
       "      <td>-0.110474</td>\n",
       "      <td>0.066928</td>\n",
       "      <td>0.128539</td>\n",
       "      <td>-0.189115</td>\n",
       "      <td>0.133558</td>\n",
       "      <td>-0.021053</td>\n",
       "      <td>149.62</td>\n",
       "      <td>0</td>\n",
       "    </tr>\n",
       "    <tr>\n",
       "      <th>1</th>\n",
       "      <td>0.0</td>\n",
       "      <td>1.191857</td>\n",
       "      <td>0.266151</td>\n",
       "      <td>0.166480</td>\n",
       "      <td>0.448154</td>\n",
       "      <td>0.060018</td>\n",
       "      <td>-0.082361</td>\n",
       "      <td>-0.078803</td>\n",
       "      <td>0.085102</td>\n",
       "      <td>-0.255425</td>\n",
       "      <td>...</td>\n",
       "      <td>-0.225775</td>\n",
       "      <td>-0.638672</td>\n",
       "      <td>0.101288</td>\n",
       "      <td>-0.339846</td>\n",
       "      <td>0.167170</td>\n",
       "      <td>0.125895</td>\n",
       "      <td>-0.008983</td>\n",
       "      <td>0.014724</td>\n",
       "      <td>2.69</td>\n",
       "      <td>0</td>\n",
       "    </tr>\n",
       "    <tr>\n",
       "      <th>2</th>\n",
       "      <td>1.0</td>\n",
       "      <td>-1.358354</td>\n",
       "      <td>-1.340163</td>\n",
       "      <td>1.773209</td>\n",
       "      <td>0.379780</td>\n",
       "      <td>-0.503198</td>\n",
       "      <td>1.800499</td>\n",
       "      <td>0.791461</td>\n",
       "      <td>0.247676</td>\n",
       "      <td>-1.514654</td>\n",
       "      <td>...</td>\n",
       "      <td>0.247998</td>\n",
       "      <td>0.771679</td>\n",
       "      <td>0.909412</td>\n",
       "      <td>-0.689281</td>\n",
       "      <td>-0.327642</td>\n",
       "      <td>-0.139097</td>\n",
       "      <td>-0.055353</td>\n",
       "      <td>-0.059752</td>\n",
       "      <td>378.66</td>\n",
       "      <td>0</td>\n",
       "    </tr>\n",
       "    <tr>\n",
       "      <th>3</th>\n",
       "      <td>1.0</td>\n",
       "      <td>-0.966272</td>\n",
       "      <td>-0.185226</td>\n",
       "      <td>1.792993</td>\n",
       "      <td>-0.863291</td>\n",
       "      <td>-0.010309</td>\n",
       "      <td>1.247203</td>\n",
       "      <td>0.237609</td>\n",
       "      <td>0.377436</td>\n",
       "      <td>-1.387024</td>\n",
       "      <td>...</td>\n",
       "      <td>-0.108300</td>\n",
       "      <td>0.005274</td>\n",
       "      <td>-0.190321</td>\n",
       "      <td>-1.175575</td>\n",
       "      <td>0.647376</td>\n",
       "      <td>-0.221929</td>\n",
       "      <td>0.062723</td>\n",
       "      <td>0.061458</td>\n",
       "      <td>123.50</td>\n",
       "      <td>0</td>\n",
       "    </tr>\n",
       "    <tr>\n",
       "      <th>4</th>\n",
       "      <td>2.0</td>\n",
       "      <td>-1.158233</td>\n",
       "      <td>0.877737</td>\n",
       "      <td>1.548718</td>\n",
       "      <td>0.403034</td>\n",
       "      <td>-0.407193</td>\n",
       "      <td>0.095921</td>\n",
       "      <td>0.592941</td>\n",
       "      <td>-0.270533</td>\n",
       "      <td>0.817739</td>\n",
       "      <td>...</td>\n",
       "      <td>-0.009431</td>\n",
       "      <td>0.798278</td>\n",
       "      <td>-0.137458</td>\n",
       "      <td>0.141267</td>\n",
       "      <td>-0.206010</td>\n",
       "      <td>0.502292</td>\n",
       "      <td>0.219422</td>\n",
       "      <td>0.215153</td>\n",
       "      <td>69.99</td>\n",
       "      <td>0</td>\n",
       "    </tr>\n",
       "  </tbody>\n",
       "</table>\n",
       "<p>5 rows × 31 columns</p>\n",
       "</div>"
      ],
      "text/plain": [
       "   Time        V1        V2        V3        V4        V5        V6        V7  \\\n",
       "0   0.0 -1.359807 -0.072781  2.536347  1.378155 -0.338321  0.462388  0.239599   \n",
       "1   0.0  1.191857  0.266151  0.166480  0.448154  0.060018 -0.082361 -0.078803   \n",
       "2   1.0 -1.358354 -1.340163  1.773209  0.379780 -0.503198  1.800499  0.791461   \n",
       "3   1.0 -0.966272 -0.185226  1.792993 -0.863291 -0.010309  1.247203  0.237609   \n",
       "4   2.0 -1.158233  0.877737  1.548718  0.403034 -0.407193  0.095921  0.592941   \n",
       "\n",
       "         V8        V9  ...       V21       V22       V23       V24       V25  \\\n",
       "0  0.098698  0.363787  ... -0.018307  0.277838 -0.110474  0.066928  0.128539   \n",
       "1  0.085102 -0.255425  ... -0.225775 -0.638672  0.101288 -0.339846  0.167170   \n",
       "2  0.247676 -1.514654  ...  0.247998  0.771679  0.909412 -0.689281 -0.327642   \n",
       "3  0.377436 -1.387024  ... -0.108300  0.005274 -0.190321 -1.175575  0.647376   \n",
       "4 -0.270533  0.817739  ... -0.009431  0.798278 -0.137458  0.141267 -0.206010   \n",
       "\n",
       "        V26       V27       V28  Amount  Class  \n",
       "0 -0.189115  0.133558 -0.021053  149.62      0  \n",
       "1  0.125895 -0.008983  0.014724    2.69      0  \n",
       "2 -0.139097 -0.055353 -0.059752  378.66      0  \n",
       "3 -0.221929  0.062723  0.061458  123.50      0  \n",
       "4  0.502292  0.219422  0.215153   69.99      0  \n",
       "\n",
       "[5 rows x 31 columns]"
      ]
     },
     "execution_count": 2,
     "metadata": {},
     "output_type": "execute_result"
    }
   ],
   "source": [
    "creditcard.head()"
   ]
  },
  {
   "cell_type": "code",
   "execution_count": 3,
   "metadata": {},
   "outputs": [
    {
     "name": "stdout",
     "output_type": "stream",
     "text": [
      "25691.16    1\n",
      "19656.53    1\n",
      "18910.00    1\n",
      "12910.93    1\n",
      "11898.09    1\n",
      "11789.84    1\n",
      "10199.44    1\n",
      "10000.00    1\n",
      "8790.26     1\n",
      "8787.00     1\n",
      "Name: Amount, dtype: int64\n",
      "Distribution of Amount:\n",
      " count    284807.000000\n",
      "mean         88.349619\n",
      "std         250.120109\n",
      "min           0.000000\n",
      "25%           5.600000\n",
      "50%          22.000000\n",
      "75%          77.165000\n",
      "max       25691.160000\n",
      "Name: Amount, dtype: float64\n"
     ]
    },
    {
     "data": {
      "text/plain": [
       "<AxesSubplot: >"
      ]
     },
     "execution_count": 3,
     "metadata": {},
     "output_type": "execute_result"
    },
    {
     "data": {
      "image/png": "[encoded data removed]",
      "text/plain": [
       "<Figure size 432x288 with 1 Axes>"
      ]
     },
     "metadata": {
      "needs_background": "light"
     },
     "output_type": "display_data"
    }
   ],
   "source": [
    "# severe imbalanced dataset\n",
    "print(creditcard.Amount.value_counts(ascending=True).sort_values(ascending=False).sort_index(ascending=False).head(10))\n",
    "print(\"Distribution of Amount:\\n\", creditcard.Amount.describe())\n",
    "creditcard.Amount.hist()"
   ]
  },
  {
   "cell_type": "markdown",
   "metadata": {},
   "source": [
    "### This showcase the outliers exist in the Amount feature, should use RobustScaler here"
   ]
  },
  {
   "cell_type": "code",
   "execution_count": 4,
   "metadata": {},
   "outputs": [
    {
     "name": "stdout",
     "output_type": "stream",
     "text": [
      "Distribution:\n",
      " 0    284315\n",
      "1       492\n",
      "Name: Class, dtype: int64\n",
      "The ratio between minority class and majority class:  0.0017304750013189597\n"
     ]
    },
    {
     "data": {
      "text/plain": [
       "<AxesSubplot: >"
      ]
     },
     "execution_count": 4,
     "metadata": {},
     "output_type": "execute_result"
    },
    {
     "data": {
      "image/png": "[encoded data removed]",
      "text/plain": [
       "<Figure size 432x288 with 1 Axes>"
      ]
     },
     "metadata": {
      "needs_background": "light"
     },
     "output_type": "display_data"
    }
   ],
   "source": [
    "# severe imbalanced dataset\n",
    "value_counts = creditcard.Class.value_counts()\n",
    "print(\"Distribution:\\n\", value_counts)\n",
    "print(\"The ratio between minority class and majority class: \", value_counts[1]/value_counts[0])\n",
    "creditcard.Class.hist()"
   ]
  },
  {
   "cell_type": "markdown",
   "metadata": {},
   "source": [
    "### This showcase the dataset is highly imbalanced, should use SMOTE here"
   ]
  },
  {
   "cell_type": "code",
   "execution_count": 7,
   "metadata": {},
   "outputs": [
    {
     "name": "stdout",
     "output_type": "stream",
     "text": [
      "Class distribution of train set before resampling:\n",
      " {0: 199020, 1: 344}\n",
      "Class distribution of train set after resampling:\n",
      " {0: 159200, 1: 3980}\n"
     ]
    }
   ],
   "source": [
    "\"\"\" Feature Engineering \"\"\"\n",
    "\n",
    "# Standardize dataset\n",
    "std_scaler = StandardScaler()\n",
    "rb_scaler = RobustScaler()\n",
    "\n",
    "creditcard[[\"Time\"]] = std_scaler.fit_transform(creditcard[[\"Time\"]])\n",
    "creditcard[[\"Amount\"]] = rb_scaler.fit_transform(creditcard[[\"Amount\"]])\n",
    "\n",
    "# split features and label\n",
    "X = creditcard.loc[:, :\"Amount\"].copy()\n",
    "y = creditcard.loc[:, \"Class\"].copy()\n",
    "\n",
    "X = np.array(X)\n",
    "y = np.array(y)\n",
    "\n",
    "# split dataset to training set and test set\n",
    "X_train, X_test, y_train, y_test = train_test_split(X, y, test_size=0.3, stratify=y)\n",
    "\n",
    "# oversampling the train set\n",
    "sm = SMOTE(sampling_strategy=0.02)\n",
    "under = RandomUnderSampler(sampling_strategy=0.025)\n",
    "steps = [('o', sm), ('u', under)]\n",
    "pipeline = Pipeline(steps=steps)\n",
    "X_train_res, y_train_res = pipeline.fit_resample(X_train, y_train)\n",
    "# X_train_res, y_train_res = X_train, y_train\n",
    "\n",
    "unique_classes_1, counts_1 = np.unique(y_train, return_counts=True)\n",
    "class_distribution_1 = dict(zip(unique_classes_1, counts_1))\n",
    "unique_classes_2, counts_2 = np.unique(y_train_res, return_counts=True)\n",
    "class_distribution_2 = dict(zip(unique_classes_2, counts_2))\n",
    "print(\"Class distribution of train set before resampling:\\n\", class_distribution_1)\n",
    "print(\"Class distribution of train set after resampling:\\n\", class_distribution_2)"
   ]
  },
  {
   "cell_type": "markdown",
   "metadata": {},
   "source": [
    "### This plot the distribution of two features V14 and V17 in feature space"
   ]
  },
  {
   "cell_type": "code",
   "execution_count": 8,
   "metadata": {},
   "outputs": [
    {
     "data": {
      "image/png": "[encoded data removed]",
      "text/plain": [
       "<Figure size 432x288 with 1 Axes>"
      ]
     },
     "metadata": {
      "needs_background": "light"
     },
     "output_type": "display_data"
    }
   ],
   "source": [
    "from matplotlib import pyplot\n",
    "from numpy import where\n",
    "from collections import Counter\n",
    "\n",
    "counter = Counter(y_train_res)\n",
    "\n",
    "X1 = np.array(X_train_res[:, 12:14])\n",
    "y1 = np.array(y_train_res)\n",
    "\n",
    "for label, _ in counter.items():\n",
    "    row_ix = where(y1 == label)[0]\n",
    "    pyplot.scatter(X1[row_ix, 0], X1[row_ix, 1], label=str(label))\n",
    "pyplot.legend()\n",
    "pyplot.show()"
   ]
  },
  {
   "cell_type": "code",
   "execution_count": 11,
   "metadata": {},
   "outputs": [
    {
     "data": {
      "text/plain": [
       "(163180, 10)"
      ]
     },
     "execution_count": 11,
     "metadata": {},
     "output_type": "execute_result"
    }
   ],
   "source": [
    "\"\"\" Split dataset into three different data domain \"\"\"\n",
    "\n",
    "# Three domains: Digital transaction division, Retail treansaction division, Fraud prevention division\n",
    "digital_transactrion = X_train_res[:, :10]\n",
    "retail_transaction = X_train_res[:, 11:20]\n",
    "fraud_prevention = X_train_res[:, 21:]\n",
    "\n",
    "# create three test set based on x_test\n",
    "digital_transactrion_test = X_test[:, :10]\n",
    "retail_transaction_test = X_test[:, 11:20]\n",
    "fraud_prevention_test = X_test[:, 21:]\n",
    "\n",
    "# save the dataframes to csv files\n",
    "# digital_transactrion.to_csv(dataDir/'digital_transaction.csv', index=False)\n",
    "# retail_transaction.to_csv(dataDir/'retail_transaction.csv', index=False)\n",
    "# fraud_prevention.to_csv(dataDir/'fraud_prevention.csv', index=False)\n",
    "# y_train_res.to_csv(dataDir/'label.csv', index=False)\n",
    "\n",
    "digital_transactrion.shape"
   ]
  },
  {
   "cell_type": "code",
   "execution_count": 12,
   "metadata": {},
   "outputs": [],
   "source": [
    "class CreditCardDataLoader(Dataset):\n",
    "    \"\"\"CreditCardDataLoader dataloader for credit card dataset\n",
    "\n",
    "    Args:\n",
    "        digitial_transaction (pd.DataFrame): Dataframe of digital transaction records\n",
    "        retail_transaction (pd.DataFrame): Dataframe of retail transaction records\n",
    "        fraud_prevention (pd.DataFrame): Dataframe of fraud prevention records\n",
    "        label (pd.Series): Series of labels\n",
    "    \"\"\"\n",
    "    def __init__(self, digitial_transaction, retail_transaction, fraud_prevention, label):\n",
    "        self.digitial_transaction = digitial_transaction\n",
    "        self.retail_transaction = retail_transaction\n",
    "        self.fraud_prevention = fraud_prevention\n",
    "        self.label = label\n",
    "        \n",
    "    def __len__(self):\n",
    "        return len(self.label)\n",
    "    \n",
    "    def __getitem__(self, idx):\n",
    "        return (\n",
    "            torch.tensor(self.digitial_transaction[idx], dtype=torch.float32),\n",
    "            torch.tensor(self.retail_transaction[idx], dtype=torch.float32),\n",
    "            torch.tensor(self.fraud_prevention[idx], dtype=torch.float32),\n",
    "            torch.tensor(self.label[idx], dtype=torch.float32)\n",
    "        )"
   ]
  },
  {
   "cell_type": "code",
   "execution_count": 14,
   "metadata": {},
   "outputs": [],
   "source": [
    "class FraudNN(nn.Module):\n",
    "    \"\"\"FraudNN neural network for fraud detection\n",
    "\n",
    "    Args:\n",
    "        input_size: size of the input of data\n",
    "        hidden_size: size of the hidden layer\n",
    "        output_size: size of the output layer\n",
    "        num_hidden_layers: number of hidden layers\n",
    "    \"\"\"\n",
    "    def __init__(\n",
    "            self,\n",
    "            input_size: int,\n",
    "            hidden_size_1: int,\n",
    "            hidden_size_2: int,\n",
    "            num_hidden_layers: int = 3,\n",
    "            output_size: int = 2,\n",
    "        ):\n",
    "        super(FraudNN, self).__init__()\n",
    "        self.input_size = input_size\n",
    "        self.hidden_size_1 = hidden_size_1\n",
    "        self.hidden_size_2 = hidden_size_2\n",
    "        self.output_size = output_size\n",
    "\n",
    "        self.input = nn.Sequential(\n",
    "            nn.Linear(input_size, hidden_size_1),\n",
    "            nn.ReLU(),\n",
    "            nn.Linear(hidden_size_1, hidden_size_2),\n",
    "            nn.ReLU()\n",
    "        )\n",
    "\n",
    "        # make the number of hidden dim layers configurable\n",
    "        self.layers = nn.ModuleList()\n",
    "        for i in range(num_hidden_layers):\n",
    "            self.layers.append(nn.Linear(hidden_size_2, hidden_size_2))\n",
    "            self.layers.append(nn.ReLU())\n",
    "        \n",
    "        # final layer\n",
    "        self.out = nn.Linear(hidden_size_2, 3)\n",
    "\n",
    "    def forward(self, digital_trans_input, retail_trans_input, fraud_prev_input):\n",
    "        \n",
    "        input = torch.cat([digital_trans_input, retail_trans_input, fraud_prev_input], dim=-1)\n",
    "        x = self.input(input)\n",
    "        for layer in self.layers:\n",
    "            x = layer(x)\n",
    "\n",
    "        return self.out(x)\n",
    "\n",
    "def binary_acc(y_pred, y_test):\n",
    "    y_pred_label = torch.softmax(y_pred, dim=1)\n",
    "    _, y_pred_label = torch.max(y_pred_label, dim = 1)\n",
    "    correct_pred = (y_pred_label == y_test).sum()\n",
    "    acc = correct_pred/y_test.shape[0]\n",
    "    return acc  "
   ]
  },
  {
   "cell_type": "code",
   "execution_count": 23,
   "metadata": {},
   "outputs": [
    {
     "name": "stdout",
     "output_type": "stream",
     "text": [
      "cuda:0\n",
      "test\n",
      "FraudNN(\n",
      "  (input): Sequential(\n",
      "    (0): Linear(in_features=28, out_features=64, bias=True)\n",
      "    (1): ReLU()\n",
      "    (2): Linear(in_features=64, out_features=32, bias=True)\n",
      "    (3): ReLU()\n",
      "  )\n",
      "  (layers): ModuleList(\n",
      "    (0): Linear(in_features=32, out_features=32, bias=True)\n",
      "    (1): ReLU()\n",
      "    (2): Linear(in_features=32, out_features=32, bias=True)\n",
      "    (3): ReLU()\n",
      "    (4): Linear(in_features=32, out_features=32, bias=True)\n",
      "    (5): ReLU()\n",
      "  )\n",
      "  (out): Linear(in_features=32, out_features=3, bias=True)\n",
      ")\n",
      "Start training...\n",
      "\n"
     ]
    },
    {
     "data": {
      "application/vnd.jupyter.widget-view+json": {
       "model_id": "7f2530ed7f7148189e0d2c2ad73552e4",
       "version_major": 2,
       "version_minor": 0
      },
      "text/plain": [
       "  0%|          | 0/60 [00:00<?, ?it/s]"
      ]
     },
     "metadata": {},
     "output_type": "display_data"
    },
    {
     "name": "stdout",
     "output_type": "stream",
     "text": [
      "Epoch 1 loss: 0.04144481 acc: 0.9926\n",
      "Epoch 2 loss: 0.00896059 acc: 0.9972\n",
      "Epoch 3 loss: 0.00601983 acc: 0.9982\n",
      "Epoch 4 loss: 0.00481877 acc: 0.9985\n",
      "Epoch 5 loss: 0.00396635 acc: 0.9988\n",
      "Epoch 6 loss: 0.00337305 acc: 0.9989\n",
      "Epoch 7 loss: 0.00275507 acc: 0.9991\n",
      "Epoch 8 loss: 0.00268490 acc: 0.9991\n",
      "Epoch 9 loss: 0.00228967 acc: 0.9992\n",
      "Epoch 10 loss: 0.00228233 acc: 0.9993\n",
      "Epoch 11 loss: 0.00213359 acc: 0.9993\n",
      "Epoch 12 loss: 0.00173029 acc: 0.9994\n",
      "Epoch 13 loss: 0.00196875 acc: 0.9994\n",
      "Epoch 14 loss: 0.00161289 acc: 0.9995\n",
      "Epoch 15 loss: 0.00150033 acc: 0.9996\n",
      "Epoch 16 loss: 0.00132963 acc: 0.9996\n",
      "Epoch 17 loss: 0.00154912 acc: 0.9995\n",
      "Epoch 18 loss: 0.00135939 acc: 0.9996\n",
      "Epoch 19 loss: 0.00127471 acc: 0.9996\n",
      "Epoch 20 loss: 0.00116762 acc: 0.9996\n",
      "Epoch 21 loss: 0.00095019 acc: 0.9997\n",
      "Epoch 22 loss: 0.00118725 acc: 0.9996\n",
      "Epoch 23 loss: 0.00095109 acc: 0.9997\n",
      "Epoch 24 loss: 0.00129737 acc: 0.9996\n",
      "Epoch 25 loss: 0.00116312 acc: 0.9996\n",
      "Epoch 26 loss: 0.00090863 acc: 0.9997\n",
      "Epoch 27 loss: 0.00089289 acc: 0.9997\n",
      "Epoch 28 loss: 0.00082157 acc: 0.9997\n",
      "Epoch 29 loss: 0.00073880 acc: 0.9998\n",
      "Epoch 30 loss: 0.00086118 acc: 0.9997\n",
      "Epoch 31 loss: 0.00068045 acc: 0.9998\n",
      "Epoch 32 loss: 0.00104106 acc: 0.9997\n",
      "Epoch 33 loss: 0.00101853 acc: 0.9997\n",
      "Epoch 34 loss: 0.00089415 acc: 0.9997\n",
      "Epoch 35 loss: 0.00067602 acc: 0.9998\n",
      "Epoch 36 loss: 0.00076514 acc: 0.9998\n",
      "Epoch 37 loss: 0.00077201 acc: 0.9998\n",
      "Epoch 38 loss: 0.00061253 acc: 0.9998\n",
      "Epoch 39 loss: 0.00066997 acc: 0.9998\n",
      "Epoch 40 loss: 0.00074667 acc: 0.9997\n",
      "Epoch 41 loss: 0.00070955 acc: 0.9998\n",
      "Epoch 42 loss: 0.00051234 acc: 0.9998\n",
      "Epoch 43 loss: 0.00049590 acc: 0.9998\n",
      "Epoch 44 loss: 0.00076968 acc: 0.9998\n",
      "Epoch 45 loss: 0.00051137 acc: 0.9998\n",
      "Epoch 46 loss: 0.00078489 acc: 0.9997\n",
      "Epoch 47 loss: 0.00115424 acc: 0.9998\n",
      "Epoch 48 loss: 0.00058767 acc: 0.9998\n",
      "Epoch 49 loss: 0.00051214 acc: 0.9998\n",
      "Epoch 50 loss: 0.00053998 acc: 0.9999\n",
      "Epoch 51 loss: 0.00059615 acc: 0.9998\n",
      "Epoch 52 loss: 0.00102157 acc: 0.9997\n",
      "Epoch 53 loss: 0.00073065 acc: 0.9998\n",
      "Epoch 54 loss: 0.00048345 acc: 0.9998\n",
      "Epoch 55 loss: 0.00024791 acc: 0.9999\n",
      "Epoch 56 loss: 0.00069697 acc: 0.9998\n",
      "Epoch 57 loss: 0.00067654 acc: 0.9998\n",
      "Epoch 58 loss: 0.00030363 acc: 0.9999\n",
      "Epoch 59 loss: 0.00068995 acc: 0.9998\n",
      "Epoch 60 loss: 0.00059598 acc: 0.9998\n"
     ]
    }
   ],
   "source": [
    "learning_rate = 5e-4\n",
    "num_epochs = 60\n",
    "batch_size = 128\n",
    "\n",
    "device = torch.device(\"cuda:0\" if torch.cuda.is_available() else \"cpu\")\n",
    "print(device)\n",
    "\n",
    "# set up input size as the sum of the feature of three domains dataset\n",
    "input_size = digital_transactrion.shape[1] + retail_transaction.shape[1] + fraud_prevention.shape[1]\n",
    "\n",
    "# create dataloader\n",
    "dataset = CreditCardDataLoader(digital_transactrion, retail_transaction, fraud_prevention, label=y_train_res)\n",
    "dataloader = DataLoader(dataset, batch_size=batch_size, shuffle=True)\n",
    "print(\"test\")\n",
    "# create model\n",
    "model = FraudNN(input_size=input_size, hidden_size_1=64, hidden_size_2=32)\n",
    "model = model.to(device)\n",
    "print(model)\n",
    "\n",
    "# create optimizer\n",
    "optimizer = torch.optim.Adam(model.parameters(), lr=learning_rate)\n",
    "\n",
    "# create loss function\n",
    "criterion = nn.CrossEntropyLoss()\n",
    "\n",
    "# train model\n",
    "print(\"Start training...\\n\")\n",
    "model.train()\n",
    "for epoch in tqdm(range(num_epochs)):\n",
    "    epoch_loss = 0.0\n",
    "    epoch_acc = 0.0\n",
    "    for digital_batch, retail_batch, fraud_batch, label_batch in dataloader:\n",
    "        digital_batch = digital_batch.to(device)\n",
    "        retail_batch = retail_batch.to(device)\n",
    "        fraud_batch = fraud_batch.to(device)\n",
    "        label_batch = label_batch.to(device)\n",
    "        optimizer.zero_grad()\n",
    "        output = model(digital_batch, retail_batch, fraud_batch)\n",
    "        loss = criterion(output, label_batch.long())\n",
    "        acc = binary_acc(output, label_batch)\n",
    "        loss.backward()\n",
    "        optimizer.step()\n",
    "        epoch_loss += loss.item()\n",
    "        epoch_acc += acc\n",
    "    print(f'Epoch {epoch+1} loss: {epoch_loss/len(dataloader):.8f} acc: {epoch_acc/len(dataloader):.4f}')\n",
    "    \n"
   ]
  },
  {
   "cell_type": "code",
   "execution_count": 27,
   "metadata": {},
   "outputs": [],
   "source": [
    "# save model\n",
    "torch.save(model.state_dict(), 'fraud_detection_sm_un.pt')"
   ]
  },
  {
   "cell_type": "code",
   "execution_count": 45,
   "metadata": {},
   "outputs": [],
   "source": [
    "def binary_acc(y_pred, y_test):\n",
    "    y_pred_label = torch.softmax(y_pred, dim=1)\n",
    "    _, y_pred_label = torch.max(y_pred_label, dim = 1)\n",
    "    correct_pred = (y_pred_label == y_test).sum()\n",
    "    acc = correct_pred/y_test.shape[0]\n",
    "    return acc  "
   ]
  },
  {
   "cell_type": "code",
   "execution_count": 24,
   "metadata": {},
   "outputs": [
    {
     "name": "stdout",
     "output_type": "stream",
     "text": [
      "cuda:0\n",
      "Class distribution of test set:\n",
      " {0: 85295, 1: 148}\n",
      "Test acc: 0.9994\n",
      "ROC AUC Score:  0.8917687897170867\n",
      "Precision:  0.8467153284671532\n",
      "Recall:  0.7837837837837838\n",
      "F1 Score:  0.8140350877192982\n"
     ]
    }
   ],
   "source": [
    "# load model\n",
    "device = torch.device(\"cuda:0\" if torch.cuda.is_available() else \"cpu\")\n",
    "print(device)\n",
    "# model_test = FraudNN(input_size=30)\n",
    "# model_test.load_state_dict(torch.load('fraud_detection_pipe1.pt'))\n",
    "# model_test = model_test.to(device)\n",
    "\n",
    "unique_classes, counts = np.unique(y_test, return_counts=True)\n",
    "class_distribution = dict(zip(unique_classes, counts))\n",
    "print(\"Class distribution of test set:\\n\", class_distribution)\n",
    "\n",
    "# create test dataset\n",
    "test_dataset = CreditCardDataLoader(digital_transactrion_test, retail_transaction_test, fraud_prevention_test, label=y_test)\n",
    "test_dataloader = DataLoader(test_dataset, batch_size=128, shuffle=True)\n",
    "\n",
    "# test model and create confusion matrix\n",
    "y_pred = []\n",
    "y_true = []\n",
    "model.eval()\n",
    "test_acc = 0.0\n",
    "with torch.no_grad():\n",
    "    for digital_batch, retail_batch, fraud_batch, label_batch in test_dataloader:\n",
    "        digital_batch = digital_batch.to(device)\n",
    "        retail_batch = retail_batch.to(device)\n",
    "        fraud_batch = fraud_batch.to(device)\n",
    "        label_batch = label_batch.to(device)\n",
    "        output = model(digital_batch, retail_batch, fraud_batch)\n",
    "        acc = binary_acc(output, label_batch.long())\n",
    "        test_acc += acc\n",
    "        \n",
    "        # save the prediction\n",
    "        y_pred_label = torch.softmax(output, dim=1)\n",
    "        _, y_pred_label = torch.max(y_pred_label, dim = 1)\n",
    "        y_pred.extend(y_pred_label.tolist())\n",
    "        y_true.extend(label_batch.long().tolist())\n",
    "        \n",
    "        \n",
    "print(f'Test acc: {test_acc/len(test_dataloader):.4f}')\n",
    "\n",
    "confusion_matrix(y_true, y_pred)\n",
    "roc_auc = roc_auc_score(y_true, y_pred)\n",
    "precision = precision_score(y_true, y_pred)\n",
    "recall = recall_score(y_true, y_pred)\n",
    "f1 = f1_score(y_true, y_pred)\n",
    "print(\"ROC AUC Score: \", roc_auc)\n",
    "print(\"Precision: \", precision)\n",
    "print(\"Recall: \", recall)\n",
    "print(\"F1 Score: \", f1)"
   ]
  },
  {
   "cell_type": "code",
   "execution_count": 35,
   "metadata": {},
   "outputs": [
    {
     "data": {
      "image/png": "[encoded data removed]",
      "text/plain": [
       "<Figure size 432x288 with 2 Axes>"
      ]
     },
     "metadata": {
      "needs_background": "light"
     },
     "output_type": "display_data"
    }
   ],
   "source": [
    "class_def = {0 : \"Normal\", 1 : \"Fraudulent\"}\n",
    "cm_df = pd.DataFrame(confusion_matrix(y_true, y_pred)).rename(columns=class_def, index=class_def)\n",
    "cm_df = cm_df / np.sum(cm_df)\n",
    "sns.heatmap(cm_df, annot=True, fmt='0.2%', cmap=\"YlGnBu\").set(title=\"Confusion Matrix\", xlabel=\"Predicted Label\", ylabel=\"True Label\")\n",
    "plt.show()"
   ]
  },
  {
   "cell_type": "code",
   "execution_count": 114,
   "metadata": {},
   "outputs": [
    {
     "name": "stdout",
     "output_type": "stream",
     "text": [
      "              precision    recall  f1-score   support\n",
      "\n",
      "           0       1.00      1.00      1.00     85295\n",
      "           1       0.80      0.86      0.83       148\n",
      "\n",
      "    accuracy                           1.00     85443\n",
      "   macro avg       0.90      0.93      0.91     85443\n",
      "weighted avg       1.00      1.00      1.00     85443\n",
      "\n"
     ]
    }
   ],
   "source": [
    "print(classification_report(y_true, y_pred))"
   ]
  }
 ],
 "metadata": {
  "kernelspec": {
   "display_name": "Python 3 (ipykernel)",
   "language": "python",
   "name": "python3"
  },
  "language_info": {
   "codemirror_mode": {
    "name": "ipython",
    "version": 3
   },
   "file_extension": ".py",
   "mimetype": "text/x-python",
   "name": "python",
   "nbconvert_exporter": "python",
   "pygments_lexer": "ipython3",
   "version": "3.7.7"
  }
 },
 "nbformat": 4,
 "nbformat_minor": 2
}
